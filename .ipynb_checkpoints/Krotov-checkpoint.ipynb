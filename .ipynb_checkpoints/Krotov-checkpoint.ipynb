{
 "cells": [
  {
   "cell_type": "code",
   "execution_count": 53,
   "id": "a201a0fe",
   "metadata": {},
   "outputs": [],
   "source": [
    "import scipy\n",
    "import math\n",
    "import numpy as np\n",
    "import sklearn.datasets\n",
    "import matplotlib.pyplot as plt\n",
    "import sklearn.model_selection\n",
    "import sklearn\n",
    "import torch\n",
    "from torch.optim import Adam\n",
    "from torch.nn.functional import tanh, one_hot, relu\n",
    "from sklearn.preprocessing import MaxAbsScaler, OneHotEncoder, LabelEncoder\n",
    "from sklearn.datasets import fetch_openml"
   ]
  },
  {
   "cell_type": "code",
   "execution_count": 10,
   "id": "0d9978d7",
   "metadata": {},
   "outputs": [],
   "source": [
    "use_mnist = False\n",
    "\n",
    "if(use_mnist):\n",
    "    mnist = fetch_openml('mnist_784')\n",
    "    X, y = mnist.data.to_numpy(), mnist.target.to_numpy()\n",
    "    X = X/256\n",
    "else:\n",
    "    digits = sklearn.datasets.load_digits()\n",
    "    X, y = digits.data, digits.target\n",
    "    X = X/16\n",
    "    \n",
    "x_train, x_test,y_train, y_test = sklearn.model_selection.train_test_split(X, y, \n",
    "                                        test_size = .1, random_state = 47)"
   ]
  },
  {
   "cell_type": "code",
   "execution_count": 42,
   "id": "3dd298c5",
   "metadata": {},
   "outputs": [],
   "source": [
    "modified = False\n",
    "\n",
    "peekX = 10\n",
    "peekY = 10\n",
    "\n",
    "# Dimensions of each image\n",
    "datx = int(math.sqrt(np.shape(X[0])[0]))\n",
    "daty = int(math.sqrt(np.shape(X[0])[0]))\n",
    "\n",
    "#Number of weights\n",
    "dim = 200\n",
    "dim = max(dim, peekX*peekY)\n",
    "\n",
    "\n",
    "\n",
    "#Input and output dimensions\n",
    "idim = np.shape(X[0])[0]\n",
    "odim = 10\n",
    "\n",
    "#Other model parameters\n",
    "p = 3\n",
    "k = 3\n",
    "delta = .4\n",
    "n = 4.5\n",
    "m = 2\n",
    "R=1\n",
    "\n",
    "#Training parameters\n",
    "train_size = np.shape(x_train)[0]\n",
    "test_size = np.shape(x_test)[0]\n",
    "Nepochs = 500\n",
    "batch_size = 100\n",
    "epsmax = .04"
   ]
  },
  {
   "cell_type": "code",
   "execution_count": 43,
   "id": "f65a944f",
   "metadata": {},
   "outputs": [
    {
     "data": {
      "text/plain": [
       "<Figure size 432x288 with 0 Axes>"
      ]
     },
     "metadata": {},
     "output_type": "display_data"
    },
    {
     "data": {
      "image/png": "[encoded data removed]",
      "text/plain": [
       "<Figure size 288x288 with 1 Axes>"
      ]
     },
     "metadata": {
      "needs_background": "light"
     },
     "output_type": "display_data"
    }
   ],
   "source": [
    "def look(X):\n",
    "    plt.gray()\n",
    "    plt.matshow(np.asmatrix(np.reshape(X, (datx,daty))))\n",
    "    plt.show()\n",
    "look(X[0])"
   ]
  },
  {
   "cell_type": "code",
   "execution_count": 44,
   "id": "ca39d676",
   "metadata": {},
   "outputs": [],
   "source": [
    "def peek_weights(datx, daty, peekX, peekY, weights):\n",
    "    fig=plt.figure(figsize=(12.9,10))\n",
    "    fulmat = np.zeros((datx*peekX,daty*peekY))\n",
    "    for i in range(peekX):\n",
    "        for j in range(peekY):\n",
    "            fulmat[i*datx:i*datx+datx,j*daty:j*daty+daty] = np.reshape(weights[peekY*i+j], (datx,daty))\n",
    "    im = plt.imshow(fulmat, cmap = 'bwr')\n",
    "    fig.colorbar(im,ticks=[np.amin(fulmat), 0, np.amax(fulmat)])\n",
    "    plt.axis('off')\n",
    "    return\n",
    "\n",
    "def vec_prod(x, w, p):\n",
    "    return np.dot(np.sign(w)*np.absolute(w)**(p-1), np.transpose(x))"
   ]
  },
  {
   "cell_type": "code",
   "execution_count": 45,
   "id": "c5204cb4",
   "metadata": {},
   "outputs": [],
   "source": [
    "def unsuperv_fast(x_train, y_train):\n",
    "    #initialize weights\n",
    "    weights = np.random.normal(0, 1, (dim, idim))\n",
    "    for epochs in range(Nepochs):\n",
    "        eps = epsmax*(1-epochs/Nepochs)\n",
    "        x_train, y_train = sklearn.utils.shuffle(x_train, y_train)\n",
    "        for i in range (train_size//batch_size):\n",
    "            x_batch = x_train[batch_size*i:batch_size*(i+1),:]\n",
    "            \n",
    "            #Fast implementation\n",
    "            inp_lay = vec_prod(x_batch, weights, p)\n",
    "                   \n",
    "            argkey = np.argsort(inp_lay, axis = 0)#Should this be 1?\n",
    "            gfunc = np.zeros((dim, batch_size))\n",
    "            \n",
    "            gfunc[argkey[dim-1,:], np.arange(batch_size)]=1\n",
    "            if(modified):\n",
    "                for i in range(k-1):\n",
    "                    argkey[dim-1-i]\n",
    "            gfunc[argkey[dim-k-1,:], np.arange(batch_size)]= -1*delta\n",
    "            \n",
    "            gim = np.sum(np.multiply(gfunc,inp_lay), axis = 1)\n",
    "            v = R**p*np.dot(gfunc, x_batch)-np.multiply(np.outer(gim, np.ones(idim)), weights)\n",
    "            \n",
    "            trans = sklearn.preprocessing.MaxAbsScaler()\n",
    "            trans.fit(v)\n",
    "            weights += eps*trans.transform(v)\n",
    "            \n",
    "    return weights"
   ]
  },
  {
   "cell_type": "code",
   "execution_count": 46,
   "id": "766f8083",
   "metadata": {},
   "outputs": [],
   "source": [
    "def loss_fn():\n",
    "    return np.sum(np.absolute(y_tr-finlay)**m)\n",
    "\n",
    "# TODO: finish supervised learning algorithm\n",
    "def learn_final_layer(weights):\n",
    "    finlay = np.random.normal((dim, odim))\n",
    "    for epochs in range(Nepochs):\n",
    "    \n",
    "        onehot = sklearn.preprocessing.OneHotEncoder()\n",
    "        y_tr = onehot.fit_transform(y_train.reshape(-1,1))"
   ]
  },
  {
   "cell_type": "code",
   "execution_count": 47,
   "id": "af0c6af8",
   "metadata": {},
   "outputs": [
    {
     "name": "stdout",
     "output_type": "stream",
     "text": [
      "dim x: (1617, 64)\n",
      "dim y: (1617,)\n"
     ]
    },
    {
     "data": {
      "image/png": "[encoded data removed]",
      "text/plain": [
       "<Figure size 928.8x720 with 2 Axes>"
      ]
     },
     "metadata": {
      "needs_background": "light"
     },
     "output_type": "display_data"
    }
   ],
   "source": [
    "print(f\"dim x: {np.shape(x_train)}\")\n",
    "print(f\"dim y: {np.shape(y_train)}\")\n",
    "weights = unsuperv_fast(x_train, y_train)\n",
    "peek_weights(datx, daty, peekX, peekY, weights)"
   ]
  },
  {
   "cell_type": "code",
   "execution_count": 26,
   "id": "c63c7739",
   "metadata": {},
   "outputs": [
    {
     "name": "stdout",
     "output_type": "stream",
     "text": [
      "torch.Size([200, 64])\n",
      "torch.Size([1617, 64])\n",
      "torch.Size([1617])\n"
     ]
    }
   ],
   "source": [
    "print(torch.from_numpy(weights).size())\n",
    "print(torch.from_numpy(x_train).size())\n",
    "print(torch.from_numpy(y_train).size())"
   ]
  },
  {
   "cell_type": "markdown",
   "id": "183e9ed4",
   "metadata": {},
   "source": [
    "Update: I think the unsupervised code is working now, but I think it might be either a hyperparamter tuning, dataset, or other issue that the digits are only sometimes visible in the weights, and often only faintly so. \n",
    "\n",
    "I'm thinking once we have hyperparameters tuned and everything we can finsh the learning the final layer code, and maybe tru to learn multiple layers biologically inspired. Idk how much we should do... also I guess we can do some standard backprop trained neural net too. Not sure if there's anything else to do that seems like a lot as is."
   ]
  },
  {
   "cell_type": "markdown",
   "id": "0b0ad58d-f60a-47c4-af9d-dc2cda924eda",
   "metadata": {},
   "source": [
    "Some of the things that we still have to do in the supervised learning part:\n",
    "\n",
    "    - implement adjustable learning rates"
   ]
  },
  {
   "cell_type": "code",
   "execution_count": 71,
   "id": "aa80d52e-ecc7-4870-8e2d-d8a624f50e51",
   "metadata": {},
   "outputs": [],
   "source": [
    "def loss_torch(out, target):\n",
    "    loss = torch.sum(torch.pow(torch.abs(out - target), m))\n",
    "    return loss"
   ]
  },
  {
   "cell_type": "code",
   "execution_count": 82,
   "id": "46ca53c4-dade-4320-b2aa-8b827a06e08e",
   "metadata": {},
   "outputs": [],
   "source": [
    "def learn_final():\n",
    "    # transform data from numpy to torch\n",
    "    x_tr_torch = torch.from_numpy(x_train)\n",
    "    y_tr_torch = torch.from_numpy(y_train)\n",
    "    x_test_torch = torch.from_numpy(x_test)\n",
    "    y_test_torch = torch.from_numpy(y_test)\n",
    "    \n",
    "    # one-hot encoding of the output\n",
    "    target = one_hot(y_tr_torch)\n",
    "    \n",
    "    # Initialize final layer\n",
    "    finlay = torch.randn(dim,odim, dtype = torch.double)\n",
    "    finlay.requires_grad_()\n",
    "    \n",
    "    # transform final layer to torch\n",
    "    midlay = torch.from_numpy(weights)\n",
    "    \n",
    "    # start adam optimizer\n",
    "    optimizer = Adam([finlay], lr = 0.001)\n",
    "    \n",
    "    # keep track of loss and test error rate\n",
    "    loss_hist = list()\n",
    "    error_rate = list()\n",
    "    \n",
    "    \n",
    "    # iterate over epochs and batches\n",
    "    for epochs in range(Nepochs):\n",
    "        epoch_loss = list()\n",
    "        for i in range (train_size//batch_size):\n",
    "            \n",
    "            # set gradients to zero\n",
    "            optimizer.zero_grad()\n",
    "            \n",
    "            # select batch\n",
    "            x_batch      = x_tr_torch[batch_size*i:batch_size*(i+1),:]\n",
    "            target_batch = target[batch_size*i:batch_size*(i+1),:]\n",
    "            \n",
    "            # perform the matrix multiplication XW\n",
    "            # have to transpose to match dimensions\n",
    "            # Use relu and then take power\n",
    "            h = torch.pow(relu(torch.matmul(x_batch, torch.transpose(midlay, 0, 1))), n)\n",
    "    \n",
    "            # perform tanh(Hy) operation\n",
    "            y_pred = tanh(torch.matmul(h, finlay))\n",
    "            \n",
    "            # compute loss\n",
    "            loss = loss_torch(y_pred, target_batch)\n",
    "            \n",
    "            # add loss to epoch loss\n",
    "            epoch_loss.append(loss.item())\n",
    "            \n",
    "            # backward pass\n",
    "            loss.backward()\n",
    "            \n",
    "            # update weights\n",
    "            optimizer.step()\n",
    "            \n",
    "        # append loss to loss history    \n",
    "        loss_hist.append(sum(epoch_loss))\n",
    "        \n",
    "        # compute train set error\n",
    "        with torch.no_grad():\n",
    "            # do a forward pass\n",
    "            h = torch.pow(relu(torch.matmul(x_test_torch, torch.transpose(midlay, 0, 1))), n)\n",
    "            y = tanh(torch.matmul(h, finlay))\n",
    "            y_pred = torch.argmax(y, dim=1)\n",
    "            \n",
    "            # append test error rate\n",
    "            correct = torch.sum((y_pred == y_test_torch).float())\n",
    "            error_rate.append(correct.item() / len(y_test))\n",
    "            \n",
    "    return finlay, loss_hist, error_rate\n",
    "    \n",
    "    "
   ]
  },
  {
   "cell_type": "code",
   "execution_count": 84,
   "id": "e9df95e7-4a3c-4e57-98af-70d745447d24",
   "metadata": {
    "tags": []
   },
   "outputs": [],
   "source": [
    "finlay, loss_hist, error_hist = learn_final()"
   ]
  },
  {
   "cell_type": "code",
   "execution_count": 79,
   "id": "969645cf-921c-4e41-a0f3-1f683cd69c39",
   "metadata": {},
   "outputs": [
    {
     "data": {
      "text/plain": [
       "int"
      ]
     },
     "execution_count": 79,
     "metadata": {},
     "output_type": "execute_result"
    }
   ],
   "source": []
  },
  {
   "cell_type": "code",
   "execution_count": null,
   "id": "95a3980c-8306-4f1a-8d12-755d58a7eecd",
   "metadata": {},
   "outputs": [],
   "source": []
  }
 ],
 "metadata": {
  "kernelspec": {
   "display_name": "Python 3",
   "language": "python",
   "name": "python3"
  },
  "language_info": {
   "codemirror_mode": {
    "name": "ipython",
    "version": 3
   },
   "file_extension": ".py",
   "mimetype": "text/x-python",
   "name": "python",
   "nbconvert_exporter": "python",
   "pygments_lexer": "ipython3",
   "version": "3.8.8"
  }
 },
 "nbformat": 4,
 "nbformat_minor": 5
}
